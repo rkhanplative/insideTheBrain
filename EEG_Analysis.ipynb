{
 "cells": [
  {
   "cell_type": "code",
   "execution_count": 1,
   "metadata": {
    "scrolled": true,
    "tags": []
   },
   "outputs": [
    {
     "output_type": "stream",
     "name": "stdout",
     "text": "Shape of x_data: (1127, 8)\nShape of y_data: (1127, 1)\n"
    }
   ],
   "source": [
    "from numpy import genfromtxt\n",
    "data = genfromtxt('data/data.csv', delimiter=',')\n",
    "y_data = data.T[:1].T\n",
    "x_data = data.T[1:].T\n",
    "\n",
    "print(f\"Shape of x_data: {x_data.shape}\")\n",
    "print(f\"Shape of y_data: {y_data.shape}\")\n",
    "\n"
   ]
  },
  {
   "cell_type": "code",
   "execution_count": 2,
   "metadata": {
    "tags": []
   },
   "outputs": [
    {
     "output_type": "stream",
     "name": "stdout",
     "text": "Shape of x_train: (901, 8)\nShape of y_train: (901, 1)\nShape of x_test: (226, 8)\nShape of y_test: (226, 1)\n[[ 31669.  28103.   3930. ...   7567.   3793.   3755.]\n [100336.  23492.  11212. ...   6527.   1824.   1046.]\n [ 99374. 201959.  10137. ...   3380.   3823.   1325.]\n ...\n [ 73464.  28197.   7264. ...   3558.    853.   1767.]\n [ 23468.  18147.   4406. ...   4301.   3464.   2486.]\n [203626.  11084.   3150. ...   1535.   1384.    632.]]\n"
    }
   ],
   "source": [
    "#Seperation of Data into 3 sets, train, validation, and test\n",
    "from sklearn.model_selection import train_test_split\n",
    "x_train, x_test, y_train, y_test = train_test_split(x_data, y_data, test_size = 0.2)\n",
    "\n",
    "print(f\"Shape of x_train: {x_train.shape}\")\n",
    "print(f\"Shape of y_train: {y_train.shape}\")\n",
    "print(f\"Shape of x_test: {x_test.shape}\")\n",
    "print(f\"Shape of y_test: {y_test.shape}\")\n",
    "\n",
    "print(x_train)\n"
   ]
  },
  {
   "cell_type": "code",
   "execution_count": 19,
   "metadata": {
    "tags": []
   },
   "outputs": [
    {
     "output_type": "stream",
     "name": "stderr",
     "text": "[Parallel(n_jobs=-1)]: Using backend ThreadingBackend with 4 concurrent workers.\n[Parallel(n_jobs=-1)]: Done  42 tasks      | elapsed:    0.1s\n[Parallel(n_jobs=-1)]: Done 192 tasks      | elapsed:    0.3s\n[Parallel(n_jobs=-1)]: Done 442 tasks      | elapsed:    0.8s\n[Parallel(n_jobs=-1)]: Done 792 tasks      | elapsed:    1.4s\n[Parallel(n_jobs=-1)]: Done 1242 tasks      | elapsed:    2.2s\n[Parallel(n_jobs=-1)]: Done 1792 tasks      | elapsed:    3.2s\n[Parallel(n_jobs=-1)]: Done 2442 tasks      | elapsed:    4.3s\n[Parallel(n_jobs=-1)]: Done 3192 tasks      | elapsed:    5.7s\n[Parallel(n_jobs=-1)]: Done 4042 tasks      | elapsed:    7.2s\n[Parallel(n_jobs=-1)]: Done 4992 tasks      | elapsed:    9.2s\n[Parallel(n_jobs=-1)]: Done 6042 tasks      | elapsed:   11.4s\n[Parallel(n_jobs=-1)]: Done 7192 tasks      | elapsed:   13.5s\n[Parallel(n_jobs=-1)]: Done 8442 tasks      | elapsed:   15.9s\n[Parallel(n_jobs=-1)]: Done 9792 tasks      | elapsed:   18.5s\n[Parallel(n_jobs=-1)]: Done 11242 tasks      | elapsed:   21.2s\n[Parallel(n_jobs=-1)]: Done 12792 tasks      | elapsed:   24.2s\n[Parallel(n_jobs=-1)]: Done 14442 tasks      | elapsed:   27.4s\n[Parallel(n_jobs=-1)]: Done 16192 tasks      | elapsed:   30.8s\n[Parallel(n_jobs=-1)]: Done 18042 tasks      | elapsed:   34.4s\n[Parallel(n_jobs=-1)]: Done 19992 tasks      | elapsed:   38.2s\n[Parallel(n_jobs=-1)]: Done 20000 out of 20000 | elapsed:   38.2s finished\n"
    },
    {
     "output_type": "execute_result",
     "data": {
      "text/plain": "RandomForestClassifier(bootstrap=True, ccp_alpha=0.0, class_weight=None,\n                       criterion='gini', max_depth=5, max_features='sqrt',\n                       max_leaf_nodes=None, max_samples=None,\n                       min_impurity_decrease=0.0, min_impurity_split=None,\n                       min_samples_leaf=1, min_samples_split=2,\n                       min_weight_fraction_leaf=0.0, n_estimators=20000,\n                       n_jobs=-1, oob_score=False, random_state=48, verbose=1,\n                       warm_start=False)"
     },
     "metadata": {},
     "execution_count": 19
    }
   ],
   "source": [
    "from sklearn.ensemble import RandomForestClassifier\n",
    "\n",
    "# Create the model with 100 trees\n",
    "model = RandomForestClassifier(n_estimators=20000, \n",
    "                               random_state=48, \n",
    "                               max_features = 'sqrt',\n",
    "                               n_jobs=-1, verbose = 1,oob_score=False,max_depth=6)\n",
    "\n",
    "# Fit on training data\n",
    "model.fit(x_train, y_train)"
   ]
  },
  {
   "cell_type": "code",
   "execution_count": 20,
   "metadata": {
    "tags": []
   },
   "outputs": [
    {
     "output_type": "stream",
     "name": "stdout",
     "text": "Average number of nodes 42\nAverage maximum depth 5\n"
    }
   ],
   "source": [
    "import numpy as np\n",
    "n_nodes = []\n",
    "max_depths = []\n",
    "\n",
    "for ind_tree in model.estimators_:\n",
    "    n_nodes.append(ind_tree.tree_.node_count)\n",
    "    max_depths.append(ind_tree.tree_.max_depth)\n",
    "    \n",
    "print(f'Average number of nodes {int(np.mean(n_nodes))}')\n",
    "print(f'Average maximum depth {int(np.mean(max_depths))}')\n"
   ]
  },
  {
   "cell_type": "code",
   "execution_count": 22,
   "metadata": {
    "tags": []
   },
   "outputs": [
    {
     "output_type": "stream",
     "name": "stderr",
     "text": "[Parallel(n_jobs=4)]: Using backend ThreadingBackend with 4 concurrent workers.\n[Parallel(n_jobs=4)]: Done  42 tasks      | elapsed:    0.0s\n[Parallel(n_jobs=4)]: Done 192 tasks      | elapsed:    0.1s\n[Parallel(n_jobs=4)]: Done 442 tasks      | elapsed:    0.2s\n[Parallel(n_jobs=4)]: Done 792 tasks      | elapsed:    0.4s\n[Parallel(n_jobs=4)]: Done 1242 tasks      | elapsed:    0.5s\n[Parallel(n_jobs=4)]: Done 1792 tasks      | elapsed:    0.6s\n[Parallel(n_jobs=4)]: Done 2442 tasks      | elapsed:    0.8s\n[Parallel(n_jobs=4)]: Done 3192 tasks      | elapsed:    1.0s\n[Parallel(n_jobs=4)]: Done 4042 tasks      | elapsed:    1.2s\n[Parallel(n_jobs=4)]: Done 4992 tasks      | elapsed:    1.4s\n[Parallel(n_jobs=4)]: Done 6042 tasks      | elapsed:    1.8s\n[Parallel(n_jobs=4)]: Done 7192 tasks      | elapsed:    2.1s\n[Parallel(n_jobs=4)]: Done 8442 tasks      | elapsed:    2.3s\n[Parallel(n_jobs=4)]: Done 9792 tasks      | elapsed:    2.7s\n[Parallel(n_jobs=4)]: Done 11242 tasks      | elapsed:    3.0s\n[Parallel(n_jobs=4)]: Done 12792 tasks      | elapsed:    3.4s\n[Parallel(n_jobs=4)]: Done 14442 tasks      | elapsed:    3.8s\n[Parallel(n_jobs=4)]: Done 16192 tasks      | elapsed:    4.2s\n[Parallel(n_jobs=4)]: Done 18042 tasks      | elapsed:    4.7s\nAccuracy: 0.5132743362831859\n[Parallel(n_jobs=4)]: Done 19992 tasks      | elapsed:    5.2s\n[Parallel(n_jobs=4)]: Done 20000 out of 20000 | elapsed:    5.2s finished\n"
    }
   ],
   "source": [
    "y_pred=model.predict(x_test)\n",
    "#Import scikit-learn metrics module for accuracy calculation\n",
    "from sklearn import metrics\n",
    "# Model Accuracy, how often is the classifier correct?\n",
    "print(\"Accuracy:\",metrics.accuracy_score(y_test, y_pred))\n"
   ]
  },
  {
   "cell_type": "code",
   "execution_count": null,
   "metadata": {},
   "outputs": [],
   "source": []
  }
 ],
 "metadata": {
  "kernelspec": {
   "display_name": "Python 3",
   "language": "python",
   "name": "python3"
  },
  "language_info": {
   "codemirror_mode": {
    "name": "ipython",
    "version": 3
   },
   "file_extension": ".py",
   "mimetype": "text/x-python",
   "name": "python",
   "nbconvert_exporter": "python",
   "pygments_lexer": "ipython3",
   "version": "3.7.7-final"
  }
 },
 "nbformat": 4,
 "nbformat_minor": 4
}