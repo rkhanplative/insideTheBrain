{
 "cells": [
  {
   "cell_type": "markdown",
   "metadata": {},
   "source": [
    "Data Source: http://mindbigdata.com/opendb/index.html\n",
    "\n",
    "**Brief Description of Data**\n",
    " - 'The version 1.03 of the open database contains 1,207,293 brain signals of 2 seconds each, captured with the stimulus of seeing  a digit (from 0 to 9) and thinking about it, over the course of almost 2 years between 2014 & 2015, from a single Test Subject David Vivancos.'\n",
    " - 'All the signals have been captured using commercial EEGs (not medical grade), NeuroSky MindWave, Emotiv EPOC, Interaxon Muse & Emotiv Insight, covering a total of 19 Brain (10/20) locations.'\n",
    "\n",
    "*Note**\n",
    " For this analysis, purely the Mindwave data was utilized. "
   ]
  },
  {
   "cell_type": "code",
   "execution_count": 2,
   "metadata": {},
   "outputs": [
    {
     "name": "stdout",
     "output_type": "stream",
     "text": [
      "[[ 0.000e+00  1.017e+03  3.800e+01 ...  2.000e+01  3.800e+01  6.100e+01]\n",
      " [ 1.000e+00  8.890e+02  8.300e+01 ...  9.000e+00  2.000e+00 -7.000e+00]\n",
      " [ 4.000e+00  1.017e+03  1.900e+01 ... -2.300e+01 -2.300e+01 -2.000e+01]\n",
      " ...\n",
      " [ 6.000e+00  9.530e+02  4.000e+01 ...  3.800e+01  4.300e+01  5.500e+01]\n",
      " [ 3.000e+00  1.017e+03  4.000e+01 ...  7.100e+01  8.100e+01  6.700e+01]\n",
      " [ 0.000e+00  9.530e+02  3.800e+01 ... -1.300e+01 -3.000e+00  1.100e+01]]\n",
      "(11842, 889)\n"
     ]
    }
   ],
   "source": [
    "import numpy as np\n",
    "my_data = np.array(np.genfromtxt('data/MW.csv', delimiter=',', usecols = (x for x in range(0,889))))\n",
    "\n",
    "print(my_data)\n",
    "print(my_data.shape)"
   ]
  },
  {
   "cell_type": "markdown",
   "metadata": {},
   "source": [
    "The dataset is organized in a manner such that the first column represents the number being thought by the individual (0-9) and the following columns represent the EEG readings in that 2 second testing period.\n",
    "\n",
    "*Note** To account for unequal number of EEG signals in the dataset, the number of signals was capped off at 889"
   ]
  },
  {
   "cell_type": "code",
   "execution_count": 8,
   "metadata": {
    "scrolled": true
   },
   "outputs": [
    {
     "name": "stdout",
     "output_type": "stream",
     "text": [
      "[0. 1. 4. ... 6. 3. 0.]\n",
      "(11842,)\n",
      "\n",
      "[[1017.   38.   48. ...   20.   38.   61.]\n",
      " [ 889.   83.   74. ...    9.    2.   -7.]\n",
      " [1017.   19.   10. ...  -23.  -23.  -20.]\n",
      " ...\n",
      " [ 953.   40.   23. ...   38.   43.   55.]\n",
      " [1017.   40.   32. ...   71.   81.   67.]\n",
      " [ 953.   38.   33. ...  -13.   -3.   11.]]\n",
      "(11842, 888)\n"
     ]
    }
   ],
   "source": [
    "eeg_labels = my_data.T[0]\n",
    "eeg_data = my_data.T[1:].T\n",
    "\n",
    "print(eeg_labels)\n",
    "print(eeg_labels.shape)\n",
    "\n",
    "print(\"\")\n",
    "\n",
    "print(eeg_data)\n",
    "print(eeg_data.shape)"
   ]
  },
  {
   "cell_type": "code",
   "execution_count": 9,
   "metadata": {},
   "outputs": [],
   "source": [
    "import matplotlib\n",
    "import matplotlib.pyplot as plt\n",
    "visuals = [[] for x in range(0,10)]\n",
    "\n",
    "for current_test in my_data:\n",
    "    visuals[int(current_test[0])].append([current_test[1:]])"
   ]
  },
  {
   "cell_type": "code",
   "execution_count": 13,
   "metadata": {},
   "outputs": [
    {
     "name": "stdout",
     "output_type": "stream",
     "text": [
      "(7934, 888)\n",
      "(7934,)\n",
      "\n",
      "\n",
      "(3908, 888)\n",
      "(3908,)\n"
     ]
    }
   ],
   "source": [
    "#Splitting the Data\n",
    "from sklearn.model_selection import train_test_split\n",
    "\n",
    "train_data, test_data, train_labels, test_labels = train_test_split(eeg_data, eeg_labels, test_size=0.33, random_state=42)\n",
    "\n",
    "print(train_data.shape)\n",
    "print(train_labels.shape)\n",
    "\n",
    "print(\"\\n\")\n",
    "\n",
    "print(test_data.shape)\n",
    "print(test_labels.shape)"
   ]
  },
  {
   "cell_type": "code",
   "execution_count": 46,
   "metadata": {},
   "outputs": [
    {
     "name": "stdout",
     "output_type": "stream",
     "text": [
      "Model: \"sequential_28\"\n",
      "_________________________________________________________________\n",
      "Layer (type)                 Output Shape              Param #   \n",
      "=================================================================\n",
      "conv2d_38 (Conv2D)           (None, 1, 888, 32)        64        \n",
      "_________________________________________________________________\n",
      "max_pooling2d_33 (MaxPooling (None, 1, 444, 32)        0         \n",
      "_________________________________________________________________\n",
      "conv2d_39 (Conv2D)           (None, 1, 444, 64)        2112      \n",
      "_________________________________________________________________\n",
      "max_pooling2d_34 (MaxPooling (None, 1, 222, 64)        0         \n",
      "_________________________________________________________________\n",
      "flatten_6 (Flatten)          (None, 14208)             0         \n",
      "_________________________________________________________________\n",
      "dense_12 (Dense)             (None, 512)               7275008   \n",
      "_________________________________________________________________\n",
      "dense_13 (Dense)             (None, 1024)              525312    \n",
      "_________________________________________________________________\n",
      "dense_14 (Dense)             (None, 10)                10250     \n",
      "=================================================================\n",
      "Total params: 7,812,746\n",
      "Trainable params: 7,812,746\n",
      "Non-trainable params: 0\n",
      "_________________________________________________________________\n"
     ]
    }
   ],
   "source": [
    "#CNN Model\n",
    "\n",
    "from keras.models import Sequential\n",
    "from keras.layers import Dense, Conv2D, Flatten, MaxPooling2D\n",
    "\n",
    "model = Sequential()\n",
    "\n",
    "model.add(Conv2D(32, (1, 1), activation='relu', input_shape=(1, 888, 1)))\n",
    "model.add(MaxPooling2D((1, 2)))\n",
    "model.add(Conv2D(64, (1, 1), activation='relu'))\n",
    "model.add(MaxPooling2D((1, 2)))\n",
    "model.add(Flatten())\n",
    "model.add(Dense(512, activation='relu'))\n",
    "model.add(Dense(1024, activation='relu'))\n",
    "model.add(Dense(10))\n",
    "\n",
    "model.summary()"
   ]
  },
  {
   "cell_type": "code",
   "execution_count": 27,
   "metadata": {},
   "outputs": [],
   "source": []
  },
  {
   "cell_type": "code",
   "execution_count": 28,
   "metadata": {},
   "outputs": [],
   "source": []
  },
  {
   "cell_type": "code",
   "execution_count": null,
   "metadata": {},
   "outputs": [],
   "source": []
  }
 ],
 "metadata": {
  "kernelspec": {
   "display_name": "Python 3",
   "language": "python",
   "name": "python3"
  },
  "language_info": {
   "codemirror_mode": {
    "name": "ipython",
    "version": 3
   },
   "file_extension": ".py",
   "mimetype": "text/x-python",
   "name": "python",
   "nbconvert_exporter": "python",
   "pygments_lexer": "ipython3",
   "version": "3.8.3"
  }
 },
 "nbformat": 4,
 "nbformat_minor": 4
}
